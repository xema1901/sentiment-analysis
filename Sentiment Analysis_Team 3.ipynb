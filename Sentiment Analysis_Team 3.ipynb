{
 "cells": [
  {
   "cell_type": "code",
   "execution_count": 1,
   "metadata": {},
   "outputs": [],
   "source": [
    "#Import required packages\n",
    "import pandas as pd\n",
    "import time\n",
    "import requests\n",
    "time_counter = time.time()\n",
    "import datetime as dt\n",
    "import pendulum"
   ]
  },
  {
   "cell_type": "code",
   "execution_count": 2,
   "metadata": {},
   "outputs": [],
   "source": [
    "#Get the reddit comments\n",
    "data = pd.read_csv('reddit.csv')\n",
    "doc = data.iloc[:,0].to_list()"
   ]
  },
  {
   "cell_type": "code",
   "execution_count": 3,
   "metadata": {},
   "outputs": [],
   "source": [
    "#Perform sentiment analysis on the reddit comments\n",
    "from textblob import TextBlob\n",
    "\n",
    "def sentiment(x):\n",
    "    '''Returns the polarity of the text'''\n",
    "    sentiment = TextBlob(x)\n",
    "    return sentiment.sentiment.polarity\n",
    "\n",
    "def timezone(utc):\n",
    "    '''Converts UTC to EST timezone'''\n",
    "    t = pendulum.from_timestamp(utc, 'EST').to_datetime_string()\n",
    "    return t"
   ]
  },
  {
   "cell_type": "code",
   "execution_count": 4,
   "metadata": {},
   "outputs": [],
   "source": [
    "#Dataframe cleaning\n",
    "data['sentiment'] = data['body'].apply(sentiment)\n",
    "data['date'] = data['created_utc'].apply(timezone)\n",
    "data['date'] =  pd.to_datetime(data['date'], format='%Y-%m-%d')\n",
    "data['date'] = data['date'].dt.date"
   ]
  },
  {
   "cell_type": "code",
   "execution_count": 5,
   "metadata": {},
   "outputs": [],
   "source": [
    "#Categorize positive, negative and neutral comments based on the polarity\n",
    "data['positive'] = [1 if x >= 0.05 else 0 for x in data.sentiment]\n",
    "data['negative'] = [1 if x <= -0.05 else 0 for x in data.sentiment]\n",
    "data['neutral'] = [1 if x <= 0.05 and x >= -0.05  else 0 for x in data.sentiment]"
   ]
  },
  {
   "cell_type": "code",
   "execution_count": 6,
   "metadata": {},
   "outputs": [],
   "source": [
    "#Count the number of positive, negative and neutral comments for each day\n",
    "comments = data.groupby('date').agg({'sentiment': 'mean', 'body': 'count', 'positive' : 'sum', 'negative' : 'sum', 'neutral' : 'sum' }).copy().reset_index()"
   ]
  },
  {
   "cell_type": "code",
   "execution_count": 7,
   "metadata": {},
   "outputs": [],
   "source": [
    "#Rename columns\n",
    "comments = comments.rename(columns={\"sentiment\": \"comments sentiment\", \"body\": \"number of comments\", \n",
    "                                    \"positive\" : \"positive comments\", \"negative\" : \"negative comments\",\n",
    "                                   \"neutral\" : \"neutral comments\"})\n",
    "comments =comments.drop(comments.index[0]).reset_index()"
   ]
  },
  {
   "cell_type": "code",
   "execution_count": 8,
   "metadata": {},
   "outputs": [],
   "source": [
    "#Get the data for the news\n",
    "news = pd.read_csv('news.csv')"
   ]
  },
  {
   "cell_type": "code",
   "execution_count": 9,
   "metadata": {},
   "outputs": [],
   "source": [
    "#Dataframe cleaning\n",
    "news['news sentiment'] = news['Headline'].apply(sentiment)  #Perform sentiment analysis on the news headlines\n",
    "news['Date'] =  pd.to_datetime(news['Date'])\n",
    "news['Date'] = news['Date'].dt.date"
   ]
  },
  {
   "cell_type": "code",
   "execution_count": 10,
   "metadata": {},
   "outputs": [],
   "source": [
    "#Categorize positive, negative and neutral news based on the polarity\n",
    "news['positive'] = [1 if x >= 0.05 else 0 for x in news['news sentiment']]\n",
    "news['negative'] = [1 if x <= -0.05 else 0 for x in news['news sentiment']]\n",
    "news['neutral'] = [1 if x <= 0.05 and x >= -0.05  else 0 for x in news['news sentiment']]"
   ]
  },
  {
   "cell_type": "code",
   "execution_count": 11,
   "metadata": {},
   "outputs": [],
   "source": [
    "#Count the number of positive, negative and neutral news for each day\n",
    "news_m = news.groupby('Date').agg({'news sentiment': 'mean', 'Headline': 'count', 'positive' : 'sum', 'negative' : 'sum', \n",
    "                                   'neutral' : 'sum' }).copy().reset_index()\n",
    "news_m = news_m.rename(columns={\"Headline\": \"number of news\", \n",
    "                                    \"positive\" : \"positive news\", \"negative\" : \"negative news\",\n",
    "                                   \"neutral\" : \"neutral news\"})"
   ]
  },
  {
   "cell_type": "code",
   "execution_count": 12,
   "metadata": {},
   "outputs": [],
   "source": [
    "#Make a consolidated dataframe\n",
    "final = pd.concat([news_m, comments], axis = 1)\n",
    "final.drop(final.columns[[6,7]],axis =1, inplace = True)"
   ]
  },
  {
   "cell_type": "code",
   "execution_count": 13,
   "metadata": {},
   "outputs": [],
   "source": [
    "#Get data for the change in stock price and volume traded\n",
    "stock = pd.read_csv('stock.csv')\n",
    "stock['Date'] =  pd.to_datetime(stock['date'])\n",
    "stock['Date'] = stock['Date'].dt.date\n",
    "stock.drop(['date'], axis =1, inplace = True)"
   ]
  },
  {
   "cell_type": "code",
   "execution_count": 14,
   "metadata": {},
   "outputs": [],
   "source": [
    "#Make a consolidated dataframe\n",
    "final = final.merge(stock, on ='Date', how = 'left')"
   ]
  },
  {
   "cell_type": "code",
   "execution_count": 15,
   "metadata": {},
   "outputs": [],
   "source": [
    "#Save the final output\n",
    "final.to_csv('final.csv',index=False)"
   ]
  }
 ],
 "metadata": {
  "kernelspec": {
   "display_name": "Python 3",
   "language": "python",
   "name": "python3"
  },
  "language_info": {
   "codemirror_mode": {
    "name": "ipython",
    "version": 3
   },
   "file_extension": ".py",
   "mimetype": "text/x-python",
   "name": "python",
   "nbconvert_exporter": "python",
   "pygments_lexer": "ipython3",
   "version": "3.7.3"
  }
 },
 "nbformat": 4,
 "nbformat_minor": 2
}
